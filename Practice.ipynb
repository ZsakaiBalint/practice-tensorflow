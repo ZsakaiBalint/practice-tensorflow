{
 "cells": [
  {
   "cell_type": "markdown",
   "id": "bf5aa917-090f-4745-a1f2-2ad8387249e0",
   "metadata": {},
   "source": [
    "# 🤖 Machine learning 🧠\n",
    "\n",
    "+ TensorFlow is a free and open-source software library for machine learning and artificial intelligence.\n",
    "It can be used across a range of tasks but has a particular focus on training and inference of deep neural networks.\n",
    "[Tensorflow guide](https://www.tensorflow.org/guide/tensor ) ⬅️\n",
    "\n",
    "+ NumPy is a library for the Python programming language, adding support for large, multi-dimensional arrays and matrices, along with a large collection of high-level mathematical functions to operate on these arrays.\n",
    "[NumPy documentation](https://numpy.org/doc/stable/) ⬅️\n",
    "\n",
    "+ Matplotlib is a comprehensive library for creating static, animated, and interactive visualizations in Python.\n",
    "[Matplotlib reference](https://matplotlib.org/stable/api/index.html) ⬅️"
   ]
  },
  {
   "cell_type": "code",
   "execution_count": 24,
   "id": "d709d524-c566-4663-9b4b-ec8e449eecad",
   "metadata": {
    "scrolled": true
   },
   "outputs": [],
   "source": [
    "!pip install -q tensorflow\n",
    "!pip install -q matplotlib\n",
    "import tensorflow as tf\n",
    "import numpy as np\n",
    "import matplotlib.pyplot as plt"
   ]
  },
  {
   "cell_type": "markdown",
   "id": "faee42f0-3e48-4777-a094-1ba109bab0fe",
   "metadata": {},
   "source": [
    "### How to import data"
   ]
  },
  {
   "cell_type": "code",
   "execution_count": null,
   "id": "c66096cc-015b-4ad2-a681-648a2b14a5c3",
   "metadata": {},
   "outputs": [],
   "source": []
  }
 ],
 "metadata": {
  "kernelspec": {
   "display_name": "Python 3 (ipykernel)",
   "language": "python",
   "name": "python3"
  },
  "language_info": {
   "codemirror_mode": {
    "name": "ipython",
    "version": 3
   },
   "file_extension": ".py",
   "mimetype": "text/x-python",
   "name": "python",
   "nbconvert_exporter": "python",
   "pygments_lexer": "ipython3",
   "version": "3.11.3"
  }
 },
 "nbformat": 4,
 "nbformat_minor": 5
}
